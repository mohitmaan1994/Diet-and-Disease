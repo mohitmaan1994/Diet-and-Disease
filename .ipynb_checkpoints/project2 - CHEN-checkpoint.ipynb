{
 "cells": [
  {
   "cell_type": "markdown",
   "metadata": {},
   "source": [
    "# Project 2: Diet and Disease"
   ]
  },
  {
   "cell_type": "markdown",
   "metadata": {},
   "source": [
    "In this project, you will investigate the major causes of death in the world, as well as how one of these causes, heart disease, might be linked to diet!"
   ]
  },
  {
   "cell_type": "markdown",
   "metadata": {},
   "source": [
    "### Logistics\n",
    "\n",
    "**Deadline.** This project is due at the end of day July 24. Projects will be accepted up to 24 hours late, with a penalty of 25% deduction for every 6 hour delay, and a project submitted 24 hours or more after the deadline will receive no credit. It's **much** better to be early than late, so start working now.\n",
    "\n",
    "**Partners.** You may work with one other partner. Only one of you is required to submit the project. Add their name to the file name with a hyphen (e.g. project1-Smith-Jones). \n",
    "\n",
    "**Rules.** Don't share your code with anybody but your partner. You are welcome to discuss questions with other students, but don't share the answers. The experience of solving the problems in this project will prepare you for exams (and life). If someone asks you for the answer, resist! Instead, you can demonstrate how you would solve a similar problem.\n",
    "\n",
    "**Support.** You are not alone! Come to office hours and talk to your classmates. If you want to ask about the details of your solution to a problem, or if you're ever feeling overwhelmed or don't know how to make progresssend, send an email to the instructor or TA.\n",
    "\n",
    "**Free Response Questions:** Make sure that you put the answers to the written questions in the indicated cell I provide. \n",
    "\n",
    "**Advice.** Develop your answers incrementally. To perform a complicated table manipulation, break it up into steps, perform each step on a different line, give a new name to each result, and check that each intermediate result is what you expect. You can add any additional names or functions you want to the provided cells. Make sure that you are using distinct and meaningful variable names throughout the notebook. Along that line, **DO NOT** reuse the variable names that I use when we grade your answers. \n",
    "\n",
    "You **never** have to use just one line in this project or any others. Use intermediate variables and multiple lines as much as you would like!  \n",
    "\n",
    "To get started, load `datascience`, `numpy`, and `plots` by running the next cell."
   ]
  },
  {
   "cell_type": "code",
   "execution_count": 1,
   "metadata": {},
   "outputs": [],
   "source": [
    "from datascience import *\n",
    "import numpy as np\n",
    "\n",
    "%matplotlib inline\n",
    "import matplotlib.pyplot as plots\n",
    "plots.style.use('fivethirtyeight')\n",
    "np.set_printoptions(legacy='1.13')"
   ]
  },
  {
   "cell_type": "markdown",
   "metadata": {},
   "source": [
    "# Diet and Cardiovascular Disease"
   ]
  },
  {
   "cell_type": "markdown",
   "metadata": {},
   "source": [
    "Death and its many causes are often a disconcerting topic for polite conversation. However, the more we know about it, the better equipped we are to prevent our early demise. As the acclaimed Professor Albus Dumbledore once said, \"After all, to the well-organized mind, death is but the next great adventure.\"\n",
    "\n",
    "In the following analysis, we will investigate the world's most dangerous killer: Cardiovascular Disease. Your investigation will take you across decades of medical research, and you'll look at multiple causes and effects across two different studies."
   ]
  },
  {
   "cell_type": "markdown",
   "metadata": {},
   "source": [
    "Here is a roadmap for this project:\n",
    "\n",
    "* In Part 1, we'll investigate the major causes of death in the world during the past century (from 1900 to 2015).\n",
    "* In Part 2, we'll look at data from the Framingham Heart Study, an observational study into cardiovascular health.\n",
    "* In Part 3, we'll examine the clinical trials from the Minnesota Coronary Experiment and introduce our second dataset.\n",
    "* In Part 4, we'll run a hypothesis test on our observed data from the Minnesota Coronary Experiment.\n",
    "* In Part 5, we'll conclude the experiment and reflect on what we've learned about the relationship between diet and cardiovascular disease."
   ]
  },
  {
   "cell_type": "markdown",
   "metadata": {},
   "source": [
    "## Part 1: Causes of Death "
   ]
  },
  {
   "cell_type": "markdown",
   "metadata": {},
   "source": [
    "In order to get a better idea of how we can most effectively prevent deaths, we need to first figure out what the major causes of death are. Run the following cell to read in and view the `causes_of_death` table, which documents the death rate for major causes of deaths over the last century (1900 until 2015)."
   ]
  },
  {
   "cell_type": "code",
   "execution_count": 2,
   "metadata": {
    "scrolled": true
   },
   "outputs": [
    {
     "name": "stderr",
     "output_type": "stream",
     "text": [
      "/anaconda3/lib/python3.6/site-packages/datascience/tables.py:132: FutureWarning: read_table is deprecated, use read_csv instead.\n",
      "  df = pandas.read_table(filepath_or_buffer, *args, **vargs)\n"
     ]
    },
    {
     "data": {
      "text/html": [
       "<table border=\"1\" class=\"dataframe\">\n",
       "    <thead>\n",
       "        <tr>\n",
       "            <th>Year</th> <th>Cause</th> <th>Age Adjusted Death Rate</th>\n",
       "        </tr>\n",
       "    </thead>\n",
       "    <tbody>\n",
       "        <tr>\n",
       "            <td>2015</td> <td>Heart Disease          </td> <td>168.5                  </td>\n",
       "        </tr>\n",
       "        <tr>\n",
       "            <td>2015</td> <td>Cancer                 </td> <td>158.5                  </td>\n",
       "        </tr>\n",
       "        <tr>\n",
       "            <td>2015</td> <td>Stroke                 </td> <td>37.6                   </td>\n",
       "        </tr>\n",
       "        <tr>\n",
       "            <td>2015</td> <td>Accidents              </td> <td>43.2                   </td>\n",
       "        </tr>\n",
       "        <tr>\n",
       "            <td>2015</td> <td>Influenza and Pneumonia</td> <td>15.2                   </td>\n",
       "        </tr>\n",
       "    </tbody>\n",
       "</table>\n",
       "<p>... (575 rows omitted)</p>"
      ],
      "text/plain": [
       "<IPython.core.display.HTML object>"
      ]
     },
     "metadata": {},
     "output_type": "display_data"
    }
   ],
   "source": [
    "causes_of_death = Table.read_table('causes_of_death.csv')\n",
    "causes_of_death.show(5)"
   ]
  },
  {
   "cell_type": "markdown",
   "metadata": {},
   "source": [
    "Each entry in the column **Age Adjusted Death Rate** is a death rate for a specific **Year** and **Cause** of death. \n",
    "\n",
    "The **Age Adjusted** specification in the death rate column tells us that the values shown are the death rates that would have existed if the population under study in a specific year had the same age distribution as the \"standard\" population, a baseline. This is so we can compare ages across years without worrying about changes in the demographics of our population."
   ]
  },
  {
   "cell_type": "markdown",
   "metadata": {},
   "source": [
    "**Question 1:** What are all the different causes of death in this dataset? Assign an array of all the unique causes of death to `all_unique_causes`."
   ]
  },
  {
   "cell_type": "code",
   "execution_count": 6,
   "metadata": {
    "deletable": false,
    "manual_problem_id": "part_1_unique_causes",
    "scrolled": true
   },
   "outputs": [
    {
     "data": {
      "text/plain": [
       "['Accidents', 'Cancer', 'Heart Disease', 'Influenza and Pneumonia', 'Stroke']"
      ]
     },
     "execution_count": 6,
     "metadata": {},
     "output_type": "execute_result"
    }
   ],
   "source": [
    "all_unique_causes = np.unique(causes_of_death.column('Cause'))\n",
    "sorted(all_unique_causes)"
   ]
  },
  {
   "cell_type": "markdown",
   "metadata": {},
   "source": [
    "**Question 2:** We would like to plot the death rate for each disease over time. To do so, we must create a table with one column for each cause and one row for each year.\n",
    "\n",
    "Create a table called `causes_for_plotting`. It should have one column called `Year`, and then a column with age-adjusted death rates for each of the causes you found in Question 1. There should be as many of these columns in `causes_for_plotting` as there are causes in Question 1.\n",
    "\n",
    "*Hint*: Use `pivot`, and think about how the `elem` function might be useful in getting the **Age Adjusted Death Rate** for each cause and year combination."
   ]
  },
  {
   "cell_type": "code",
   "execution_count": 13,
   "metadata": {
    "deletable": false,
    "editable": false
   },
   "outputs": [],
   "source": [
    "def elem(x):\n",
    "    return x.item(0)"
   ]
  },
  {
   "cell_type": "code",
   "execution_count": 15,
   "metadata": {
    "deletable": false,
    "for_assignment_type": "student",
    "manual_problem_id": "part_1_plot_causes"
   },
   "outputs": [
    {
     "data": {
      "image/png": "[encoded data removed]",
      "text/plain": [
       "<Figure size 432x288 with 1 Axes>"
      ]
     },
     "metadata": {},
     "output_type": "display_data"
    }
   ],
   "source": [
    "causes_for_plotting = causes_of_death.pivot('Cause', 'Year', 'Age Adjusted Death Rate', elem)\n",
    "# causes_for_plotting\n",
    "# Do not change this line\n",
    "causes_for_plotting.plot('Year')"
   ]
  },
  {
   "cell_type": "markdown",
   "metadata": {},
   "source": [
    "Let's examine the graph above. You'll see that in the 1960s, the death rate due to heart disease steadily declines. Up until then, the effects of smoking, blood pressure, and diet on the cardiovascular system were unknown to researchers. Once these factors started to be noticed, doctors were able recommend a lifestyle change for at-risk patients to prevent heart attacks and heart problems.\n",
    "\n",
    "Note, however, that the death rate for heart disease is still higher than the death rates of all other causes. Even though the death rate is starkly decreasing, there's still a lot we don't understand about the causes (both direct and indirect) of heart disease."
   ]
  },
  {
   "cell_type": "markdown",
   "metadata": {},
   "source": [
    "## Part 2: The Framingham Heart Study"
   ]
  },
  {
   "cell_type": "markdown",
   "metadata": {},
   "source": [
    "The [Framingham Heart Study](https://en.wikipedia.org/wiki/Framingham_Heart_Study) is an observational study of cardiovascular health. The initial study followed over 5,000 volunteers for several decades, and followup studies even looked at their descendants. In this section, we'll investigate some of its key findings about diet, cholesterol, and heart disease.\n",
    "\n",
    "Run the cell below to examine data for almost 4,000 subjects from the first wave of the study, collected in 1956."
   ]
  },
  {
   "cell_type": "code",
   "execution_count": 16,
   "metadata": {},
   "outputs": [
    {
     "name": "stderr",
     "output_type": "stream",
     "text": [
      "/anaconda3/lib/python3.6/site-packages/datascience/tables.py:132: FutureWarning: read_table is deprecated, use read_csv instead.\n",
      "  df = pandas.read_table(filepath_or_buffer, *args, **vargs)\n"
     ]
    },
    {
     "data": {
      "text/html": [
       "<table border=\"1\" class=\"dataframe\">\n",
       "    <thead>\n",
       "        <tr>\n",
       "            <th>AGE</th> <th>SYSBP</th> <th>DIABP</th> <th>TOTCHOL</th> <th>CURSMOKE</th> <th>DIABETES</th> <th>GLUCOSE</th> <th>DEATH</th> <th>ANYCHD</th>\n",
       "        </tr>\n",
       "    </thead>\n",
       "    <tbody>\n",
       "        <tr>\n",
       "            <td>39  </td> <td>106  </td> <td>70   </td> <td>195    </td> <td>0       </td> <td>0       </td> <td>77     </td> <td>0    </td> <td>1     </td>\n",
       "        </tr>\n",
       "        <tr>\n",
       "            <td>46  </td> <td>121  </td> <td>81   </td> <td>250    </td> <td>0       </td> <td>0       </td> <td>76     </td> <td>0    </td> <td>0     </td>\n",
       "        </tr>\n",
       "        <tr>\n",
       "            <td>48  </td> <td>127.5</td> <td>80   </td> <td>245    </td> <td>1       </td> <td>0       </td> <td>70     </td> <td>0    </td> <td>0     </td>\n",
       "        </tr>\n",
       "        <tr>\n",
       "            <td>61  </td> <td>150  </td> <td>95   </td> <td>225    </td> <td>1       </td> <td>0       </td> <td>103    </td> <td>1    </td> <td>0     </td>\n",
       "        </tr>\n",
       "        <tr>\n",
       "            <td>46  </td> <td>130  </td> <td>84   </td> <td>285    </td> <td>1       </td> <td>0       </td> <td>85     </td> <td>0    </td> <td>0     </td>\n",
       "        </tr>\n",
       "        <tr>\n",
       "            <td>43  </td> <td>180  </td> <td>110  </td> <td>228    </td> <td>0       </td> <td>0       </td> <td>99     </td> <td>0    </td> <td>1     </td>\n",
       "        </tr>\n",
       "        <tr>\n",
       "            <td>63  </td> <td>138  </td> <td>71   </td> <td>205    </td> <td>0       </td> <td>0       </td> <td>85     </td> <td>0    </td> <td>1     </td>\n",
       "        </tr>\n",
       "        <tr>\n",
       "            <td>45  </td> <td>100  </td> <td>71   </td> <td>313    </td> <td>1       </td> <td>0       </td> <td>78     </td> <td>0    </td> <td>0     </td>\n",
       "        </tr>\n",
       "        <tr>\n",
       "            <td>52  </td> <td>141.5</td> <td>89   </td> <td>260    </td> <td>0       </td> <td>0       </td> <td>79     </td> <td>0    </td> <td>0     </td>\n",
       "        </tr>\n",
       "        <tr>\n",
       "            <td>43  </td> <td>162  </td> <td>107  </td> <td>225    </td> <td>1       </td> <td>0       </td> <td>88     </td> <td>0    </td> <td>0     </td>\n",
       "        </tr>\n",
       "    </tbody>\n",
       "</table>\n",
       "<p>... (3832 rows omitted)</p>"
      ],
      "text/plain": [
       "AGE  | SYSBP | DIABP | TOTCHOL | CURSMOKE | DIABETES | GLUCOSE | DEATH | ANYCHD\n",
       "39   | 106   | 70    | 195     | 0        | 0        | 77      | 0     | 1\n",
       "46   | 121   | 81    | 250     | 0        | 0        | 76      | 0     | 0\n",
       "48   | 127.5 | 80    | 245     | 1        | 0        | 70      | 0     | 0\n",
       "61   | 150   | 95    | 225     | 1        | 0        | 103     | 1     | 0\n",
       "46   | 130   | 84    | 285     | 1        | 0        | 85      | 0     | 0\n",
       "43   | 180   | 110   | 228     | 0        | 0        | 99      | 0     | 1\n",
       "63   | 138   | 71    | 205     | 0        | 0        | 85      | 0     | 1\n",
       "45   | 100   | 71    | 313     | 1        | 0        | 78      | 0     | 0\n",
       "52   | 141.5 | 89    | 260     | 0        | 0        | 79      | 0     | 0\n",
       "43   | 162   | 107   | 225     | 1        | 0        | 88      | 0     | 0\n",
       "... (3832 rows omitted)"
      ]
     },
     "execution_count": 16,
     "metadata": {},
     "output_type": "execute_result"
    }
   ],
   "source": [
    "framingham = Table.read_table('framingham.csv')\n",
    "framingham"
   ]
  },
  {
   "cell_type": "markdown",
   "metadata": {},
   "source": [
    "Each row contains data from one subject. The first seven columns describe the subject at the time of their initial medical exam at the start of the study. The last column, `ANYCHD`, tells us whether the subject developed some form of heart disease at any point after the start of the study.\n",
    "\n",
    "You may have noticed that the table contains fewer rows than subjects in the original study: this is because we are excluding subjects who already had heart disease as well as subjects with missing data."
   ]
  },
  {
   "cell_type": "markdown",
   "metadata": {},
   "source": [
    "### Section 1: Diabetes and the population"
   ]
  },
  {
   "cell_type": "markdown",
   "metadata": {},
   "source": [
    "Before we begin our investigation into cholesterol, we'll first look at some limitations of this dataset. In particular, we will investigate ways in which this is or isn't a representative sample of the population by examining the number of subjects with diabetes.\n",
    "\n",
    "[According to the CDC](https://www.cdc.gov/diabetes/statistics/slides/long_term_trends.pdf), the prevalence of diagnosed diabetes (i.e., the percentage of the population who have it) in the U.S. around this time was 0.93%. We are going to conduct a hypothesis test with the following null and alternative hypotheses:\n",
    "\n",
    "**Null Hypothesis**: The probability that a participant within the Framingham Study has diabetes is equivalent to the prevalence of diagnosed diabetes within the population. (i.e., any difference is due to chance).\n",
    "\n",
    "**Alternative Hypothesis**: The probability that a participant within the Framingham Study has diabetes is different than the prevalence of diagnosed diabetes within the population.\n",
    "\n",
    "We are going to use the absolute distance between the observed prevalence and the true population prevalence as our test statistic. The column `DIABETES` in the `framingham` table contains a 1 for subjects with diabetes and a `0` for those without."
   ]
  },
  {
   "cell_type": "markdown",
   "metadata": {},
   "source": [
    "**Question 1**: What is the observed value of the statistic in the data from the Framingham Study? You should convert prevalences to proportions before calculating the statistic!"
   ]
  },
  {
   "cell_type": "code",
   "execution_count": 22,
   "metadata": {},
   "outputs": [
    {
     "data": {
      "text/plain": [
       "numpy.ndarray"
      ]
     },
     "execution_count": 22,
     "metadata": {},
     "output_type": "execute_result"
    }
   ],
   "source": [
    "type(framingham.column('DIABETES'))"
   ]
  },
  {
   "cell_type": "code",
   "execution_count": 17,
   "metadata": {
    "deletable": false,
    "for_assignment_type": "student",
    "manual_problem_id": "part_2_observed_diabetes"
   },
   "outputs": [
    {
     "data": {
      "text/plain": [
       "0.02732951587714732"
      ]
     },
     "execution_count": 17,
     "metadata": {},
     "output_type": "execute_result"
    }
   ],
   "source": [
    "observed_diabetes_distance = framingham.where('DIABETES', 1).num_rows / framingham.num_rows\n",
    "observed_diabetes_distance"
   ]
  },
  {
   "cell_type": "markdown",
   "metadata": {},
   "source": [
    "**Question 2**: The array `diabetes_proportions` contains the proportions of the population without and with diabetes. Complete the following code to simulate 5000 values of the statistic under the null hypothesis."
   ]
  },
  {
   "cell_type": "code",
   "execution_count": 28,
   "metadata": {
    "deletable": false,
    "for_assignment_type": "student",
    "manual_problem_id": "part_2_simulate_diabetes"
   },
   "outputs": [
    {
     "data": {
      "text/plain": [
       "array([ 0.01327434,  0.00910984,  0.00937012, ...,  0.00884956,\n",
       "        0.0096304 ,  0.00754815])"
      ]
     },
     "execution_count": 28,
     "metadata": {},
     "output_type": "execute_result"
    }
   ],
   "source": [
    "diabetes_proportions = make_array(.9907, .0093)\n",
    "\n",
    "diabetes_simulated_stats = make_array()\n",
    "sample_size = framingham.num_rows\n",
    "\n",
    "for i in np.arange(5000):\n",
    "    simulated_stat = sample_proportions(sample_size, diabetes_proportions).item(1)\n",
    "    diabetes_simulated_stats = np.append(diabetes_simulated_stats, simulated_stat)\n",
    "    \n",
    "diabetes_simulated_stats"
   ]
  },
  {
   "cell_type": "markdown",
   "metadata": {},
   "source": [
    "**Question 3**: Run the following cell to generate a histogram of the simulated values of your statistic, along with the observed value.\n",
    "\n",
    "*Make sure to run the cell that draws the histogram, since it will be graded.*"
   ]
  },
  {
   "cell_type": "code",
   "execution_count": 29,
   "metadata": {},
   "outputs": [
    {
     "data": {
      "text/plain": [
       "<matplotlib.collections.PathCollection at 0x1a16267c88>"
      ]
     },
     "execution_count": 29,
     "metadata": {},
     "output_type": "execute_result"
    },
    {
     "data": {
      "image/png": "[encoded data removed]",
      "text/plain": [
       "<Figure size 432x288 with 1 Axes>"
      ]
     },
     "metadata": {},
     "output_type": "display_data"
    }
   ],
   "source": [
    "Table().with_column('Simulated distance to true incidence', diabetes_simulated_stats).hist()\n",
    "plots.scatter(observed_diabetes_distance, 0, color='red', s=30)"
   ]
  },
  {
   "cell_type": "markdown",
   "metadata": {},
   "source": [
    "**Question 4**: Based on the results of the test and the empirical distribution of the test statistic under the null, should you reject the null hypothesis?"
   ]
  },
  {
   "cell_type": "markdown",
   "metadata": {
    "deletable": false,
    "manual_problem_id": "part_2_null"
   },
   "source": [
    "**Reject the null, because it is very unlikely to get the observed diabetes rate if null is true. **"
   ]
  },
  {
   "cell_type": "markdown",
   "metadata": {},
   "source": [
    "**Question 5**: You know that the study was well-designed to represent the population. Why might there be a difference between the population and the sample? Assign the name `framingham_diabetes_explanations` to a list of the following explanations that **are possible and consistent** with the observed data and hypothesis test results.\n",
    "\n",
    "1. Healthy (non-diabetic) people are more likely to volunteer for the study.\n",
    "2. Diabetes was under-diagnosed in the population (i.e., there were a lot of people in the population who had diabetes but weren't diagnosed).\n",
    "3. The relatively wealthy population in Framingham ate a luxurious diet high in sugar (high-sugar diets are a known cause of diabetes).\n",
    "4. The Framingham Study subjects were older on average than the general population, and therefore more likely to have diabetes.\n"
   ]
  },
  {
   "cell_type": "code",
   "execution_count": 30,
   "metadata": {
    "deletable": false,
    "manual_problem_id": "part_2_explanations"
   },
   "outputs": [
    {
     "data": {
      "text/plain": [
       "[2, 3, 4]"
      ]
     },
     "execution_count": 30,
     "metadata": {},
     "output_type": "execute_result"
    }
   ],
   "source": [
    "framingham_diabetes_possibilities = [2, 3, 4]\n",
    "framingham_diabetes_possibilities"
   ]
  },
  {
   "cell_type": "markdown",
   "metadata": {},
   "source": [
    "In real-world studies, getting a truly representative random sample of the population is often incredibly difficult. Even just to accurately represent all Americans, a truly random sample would need to examine people across geographical, socioeconomic, community, and class lines (just to name a few). For a study like this, scientists would also need to make sure the medical exams were standardized and consistent across the different people being examined. In other words, there's a tradeoff between taking a more representative random sample and the cost of collecting all the data from the sample.\n",
    "\n",
    "The Framingham study collected high-quality medical data from its subjects, even if the subjects may not be a perfect representation of the population of all Americans. This is a common issue that data scientists face: while the available data aren't perfect, they're the best we have. The Framingham study is generally considered the best in its class, so we'll continue working with it while keeping its limitations in mind.\n",
    "\n",
    "(For more on representation in medical study samples, you can read these recent articles from [NPR](https://www.npr.org/sections/health-shots/2015/12/16/459666750/clinical-trials-still-dont-reflect-the-diversity-of-america) and [Scientific American](https://www.scientificamerican.com/article/clinical-trials-have-far-too-little-racial-and-ethnic-diversity/))."
   ]
  },
  {
   "cell_type": "markdown",
   "metadata": {},
   "source": [
    "### Section 2: Cholesterol and Heart Disease"
   ]
  },
  {
   "cell_type": "markdown",
   "metadata": {},
   "source": [
    "In the remainder of this question, we are going to examine one of the main findings of the Framingham study: an association between serum cholesterol (i.e., how much cholesterol is in someone's blood) and whether or not that person develops heart disease.\n",
    "\n",
    "We'll use the following null and alternative hypotheses:\n",
    "\n",
    "**Null Hypothesis:** In the population, the distribution of cholesterol levels among those who get heart disease is the same as the distribution of cholesterol levels\n",
    "among those who do not.\n",
    "\n",
    "**Alternative Hypothesis:** The cholesterol levels of people in the population who get\n",
    "heart disease are higher, on average, than the cholesterol level of people who do not."
   ]
  },
  {
   "cell_type": "markdown",
   "metadata": {},
   "source": [
    "**Question 1:** From the provided Null and Alternative Hypotheses, what seems more reasonable to use, A/B Testing or the Standard Hypothesis Testing? Assign the variable `reasonable_test` to one of the following choices. \n",
    "\n",
    "1. A/B Testing\n",
    "2. Standard Hypothesis Test"
   ]
  },
  {
   "cell_type": "code",
   "execution_count": 31,
   "metadata": {
    "deletable": false,
    "manual_problem_id": "part_2_reasonable_test"
   },
   "outputs": [
    {
     "data": {
      "text/plain": [
       "1"
      ]
     },
     "execution_count": 31,
     "metadata": {},
     "output_type": "execute_result"
    }
   ],
   "source": [
    "reasonable_test = 1\n",
    "reasonable_test"
   ]
  },
  {
   "cell_type": "markdown",
   "metadata": {},
   "source": [
    "**Question 2:** Now that we have a null hypothesis, we need a test statistic. Explain and justify your choice of test statistic in two sentences or less.\n",
    "\n",
    "*Hint*: Remember that larger values of the test statistic should favor the alternative over the null."
   ]
  },
  {
   "cell_type": "markdown",
   "metadata": {
    "deletable": false,
    "manual_problem_id": "part_2_ts"
   },
   "source": [
    "**Test Statistic:** **The mena cholesterol level of heart disease group minus the mean cholesterol level of non heart disease group.**"
   ]
  },
  {
   "cell_type": "markdown",
   "metadata": {},
   "source": [
    "**Question 3**: Write a function that computes your test statistic. It should take a table with two columns, `TOTCHOL` and `ANYCHD`, and compute the test statistic you described above. "
   ]
  },
  {
   "cell_type": "code",
   "execution_count": 34,
   "metadata": {
    "deletable": false,
    "for_assignment_type": "student",
    "manual_problem_id": "part_2_compute_ts"
   },
   "outputs": [],
   "source": [
    "def compute_framingham_test_statistic(tbl):\n",
    "    Chol_group = tbl.group('ANYCHD', np.average).column(1)\n",
    "    return Chol_group.item(1) - Chol_group.item(0)\n"
   ]
  },
  {
   "cell_type": "markdown",
   "metadata": {},
   "source": [
    "**Question 4**: Use the function you defined above to compute the observed test statistic, and assign it to the name `framingham_observed_statistic`."
   ]
  },
  {
   "cell_type": "code",
   "execution_count": 35,
   "metadata": {
    "deletable": false,
    "for_assignment_type": "student",
    "manual_problem_id": "part_2_frame_os"
   },
   "outputs": [
    {
     "data": {
      "text/plain": [
       "16.635919905689406"
      ]
     },
     "execution_count": 35,
     "metadata": {},
     "output_type": "execute_result"
    }
   ],
   "source": [
    "framingham_observed_statistic = compute_framingham_test_statistic(framingham.select('TOTCHOL', 'ANYCHD'))\n",
    "framingham_observed_statistic"
   ]
  },
  {
   "cell_type": "markdown",
   "metadata": {},
   "source": [
    "Now that we have defined hypotheses and a test statistic, we are ready to conduct a hypothesis test. We'll start by defining a function to simulate the test statistic under the null hypothesis, and then use that function 1000 times to understand the distribution under the null hypothesis.\n",
    "\n",
    "**Question 5**: Write a function to simulate the test statistic under the null hypothesis. \n",
    "\n",
    "The `simulate_framingham_null` function should simulate the null hypothesis once (not 1000 times) and return the value of the test statistic for that simulated sample."
   ]
  },
  {
   "cell_type": "code",
   "execution_count": 41,
   "metadata": {
    "deletable": false,
    "for_assignment_type": "student",
    "manual_problem_id": "part_2_simulate_null"
   },
   "outputs": [],
   "source": [
    "def simulate_framingham_null():\n",
    "    shuffled_frame = framingham.sample(with_replacement = False).column('ANYCHD')\n",
    "    sim_table_frame = framingham.select('TOTCHOL').with_column('ANYCHD', shuffled_frame)\n",
    "    return compute_framingham_test_statistic(sim_table_frame)"
   ]
  },
  {
   "cell_type": "code",
   "execution_count": 42,
   "metadata": {},
   "outputs": [
    {
     "data": {
      "text/plain": [
       "-2.4684344094264077"
      ]
     },
     "execution_count": 42,
     "metadata": {},
     "output_type": "execute_result"
    }
   ],
   "source": [
    "# Run your function once to make sure that it works.\n",
    "simulate_framingham_null()"
   ]
  },
  {
   "cell_type": "markdown",
   "metadata": {},
   "source": [
    "**Question 6**: Fill in the blanks below to complete the simulation for the hypothesis test. Your simulation should compute 1000 values of the test statistic under the null hypothesis and store the result in the array framingham_simulated_stats.\n",
    "\n",
    "*Hint*: You should use the function you wrote above in Question 3.\n",
    "\n",
    "*Note*: Warning: running your code might take a few minutes!  We encourage you to check your `simulate_framingham_null()` code to make sure it works correctly before running this cell. "
   ]
  },
  {
   "cell_type": "code",
   "execution_count": 44,
   "metadata": {
    "deletable": false,
    "for_assignment_type": "student",
    "manual_problem_id": "part_2_hypothesis_test"
   },
   "outputs": [],
   "source": [
    "framingham_simulated_stats = make_array()\n",
    "\n",
    "for i in np.arange(1000):\n",
    "    sim_stat = simulate_framingham_null()\n",
    "    framingham_simulated_stats = np.append(framingham_simulated_stats, sim_stat)"
   ]
  },
  {
   "cell_type": "markdown",
   "metadata": {},
   "source": [
    "The following line will plot the histogram of the simulated test statistics, as well as a point for the observed test statistic. Make sure to run it, as it will be graded. "
   ]
  },
  {
   "cell_type": "code",
   "execution_count": 45,
   "metadata": {
    "deletable": false,
    "manual_problem_id": "disease_q_4_1_6"
   },
   "outputs": [
    {
     "data": {
      "text/plain": [
       "<matplotlib.collections.PathCollection at 0x1a0d1dc3c8>"
      ]
     },
     "execution_count": 45,
     "metadata": {},
     "output_type": "execute_result"
    },
    {
     "data": {
      "image/png": "[encoded data removed]",
      "text/plain": [
       "<Figure size 432x288 with 1 Axes>"
      ]
     },
     "metadata": {},
     "output_type": "display_data"
    }
   ],
   "source": [
    "Table().with_column('Simulated statistics', framingham_simulated_stats).hist()\n",
    "plots.scatter(framingham_observed_statistic, 0, color='red', s=30)"
   ]
  },
  {
   "cell_type": "markdown",
   "metadata": {},
   "source": [
    "**Question 7**: Compute the p-value for this hypothesis test, and assign it to the name `framingham_p_value`.\n",
    "\n",
    "*Hint*: One of the key findings of the Framingham study was a strong association between cholesterol levels and heart disease. If your p-value doesn't match up with this finding, you may want to take another look at your test statistic and/or your simulation."
   ]
  },
  {
   "cell_type": "code",
   "execution_count": 46,
   "metadata": {
    "deletable": false,
    "for_assignment_type": "student",
    "manual_problem_id": "part_2_p_value"
   },
   "outputs": [
    {
     "data": {
      "text/plain": [
       "0.0"
      ]
     },
     "execution_count": 46,
     "metadata": {},
     "output_type": "execute_result"
    }
   ],
   "source": [
    "framingham_p_value = np.average(framingham_simulated_stats > framingham_observed_statistic)\n",
    "framingham_p_value"
   ]
  },
  {
   "cell_type": "markdown",
   "metadata": {},
   "source": [
    "**Question 8**: Despite the Framingham Heart Study's reputation as a well-conducted and rigorous study, it has some major limitations. Give one specific reason why it can't be used to say that high cholesterol *causes* heart disease.\n"
   ]
  },
  {
   "cell_type": "markdown",
   "metadata": {
    "deletable": false,
    "manual_problem_id": "disease_2_1"
   },
   "source": [
    "**Association does NOT imply causation, the study is an observational study, and there are confounding factors.**"
   ]
  },
  {
   "cell_type": "markdown",
   "metadata": {},
   "source": [
    "Similar studies from the 1950s found positive associations between diets high in saturated fat, high cholesterol, and incidence of heart disease. In 1962, the U.S. Surgeon General said:\n",
    "\n",
    "*\"Although there is evidence that diet and dietary habits may be implicated in the development of coronary heart disease and may be significant in its prevention or control, at present our only research evidence is associative and not conclusive.\"*"
   ]
  },
  {
   "cell_type": "markdown",
   "metadata": {},
   "source": [
    "## Part 3: Causality, the National Diet-Heart Study, and the Minnesota Coronary Experiment"
   ]
  },
  {
   "cell_type": "markdown",
   "metadata": {},
   "source": [
    "To establish a causal link between saturated fat intake, serum cholesterol, and heart disease, a group of doctors in the US established the National Heart-Diet Study. The study was based in 6 centers: Baltimore, Boston, Chicago, Minneapolis-St. Paul, Oakland, and Faribault, MN. The first 5 centers recruited volunteers from the local population: volunteers and their families were asked to adjust their diet to include more or less saturated fat.\n",
    "\n",
    "You may already have a strong intuition about what the doctors concluded in their findings, but the evidence from the trial was surprisingly complex."
   ]
  },
  {
   "cell_type": "markdown",
   "metadata": {},
   "source": [
    "**Question 1**: Why might the data from the National Heart-Diet Study not be enough to determine causality? Describe one specific limitation of the data from these first 5 centers in the study.\n",
    "\n",
    "*Hint*: what is the main problem with fad diets?"
   ]
  },
  {
   "cell_type": "markdown",
   "metadata": {
    "deletable": false,
    "manual_problem_id": "part_3_determine_causality"
   },
   "source": [
    "**The first 5 centers recruited volunteers as subjects, and they may not be a random sample from the entire population.**"
   ]
  },
  {
   "cell_type": "markdown",
   "metadata": {
    "collapsed": true
   },
   "source": [
    "The sixth center was organized by Dr. Ivan Frantz, and its study was known as the Minnesota Coronary Experiment. Dr. Frantz was a strong proponent of reducing saturated fats to prevent death from heart disease. He believed so strongly in the idea that he placed his household on a strict diet very low in saturated fats. The main difference between the Minnesota Coronary Experiment and the rest of the National Diet-Heart Study was the setting. While the other centers in the study looked at volunteers, Dr. Frantz conducted his study at Faribault State Hospital, which housed patients who were institutionalized due to disabilities or mental illness.\n",
    "\n",
    "In this institution, the subjects were randomly divided into two equal groups: half of the subjects, the **control group**, were fed meals cooked with saturated fats, and the other half, the **diet group**, were fed meals cooked with polyunsaturated fats. For example, the diet group's oils were replaced with corn oils and their butter was replaced with margarine. The subjects did not know which food they were getting, to avoid any potential bias or placebo effect. This type of study is known as a **blind** study.\n",
    "\n",
    "Although standards for informed consent in participation weren't as strict then as they are today, the study was described as follows:\n",
    "\n",
    "*\"No consent forms were required because the study diets were considered to be acceptable as house diets and the testing was considered to contribute to better patient care.  Prior to beginning the diet phase, the project was explained and sample foods were served. Residents were given the opportunity to decline participation.\"*\n",
    "\n",
    "Despite the level of detail and effort in the study, the results of the study were never extensively examined until the late 21st century. Over 40 years after the data were collected, Dr. Christopher Ramsden heard about the experiment, and asked Dr. Frantz's son Robert to uncover the files in the Frantz family home's dusty basement. You can learn more about the story of how the data was recovered on the [Revisionist History podcast](http://revisionisthistory.com/episodes/20-the-basement-tapes) or in [Scientific American magazine](https://www.scientificamerican.com/article/records-found-in-dusty-basement-undermine-decades-of-dietary-advice/)."
   ]
  },
  {
   "cell_type": "markdown",
   "metadata": {},
   "source": [
    "**Question 2:** While the data from such a study may be useful scientifically, it also raises major ethical concerns. Describe at least one ethical problem with the study conducted at Faribault State Hospital.\n",
    "\n",
    "*Hint*: There isn't necessarily a single right or wrong answer to this question. If you're not sure, some areas of consideration may be the study organizers' selection of participants for the study, as well as their justification for not using consent forms. You could also ask yourself how the project might have been explained to the patients prior to the diet phase, and to what degree were they capable of consent."
   ]
  },
  {
   "cell_type": "markdown",
   "metadata": {
    "deletable": false,
    "manual_problem_id": "part_3_ethical"
   },
   "source": [
    "**Because the subjects were patients of disabilities or mental illness, they may not have the capability to make decision about participation.**"
   ]
  },
  {
   "cell_type": "markdown",
   "metadata": {},
   "source": [
    "In recent years, poor treatment of patients at Faribault State Hospital (and other similar institutions in Minnesota) has come to light: the state has recently [changed patients' gravestones from numbers to their actual names](https://www.tcdailyplanet.net/minnesota-saying-sorry-treatment-persons-disabilities/), and [apologized for inhumane treatment of patients](https://www.tcdailyplanet.net/minnesota-saying-sorry-treatment-persons-disabilities/)."
   ]
  },
  {
   "cell_type": "markdown",
   "metadata": {},
   "source": [
    "Unfortunately, the data for each individual in the 1968 study is not available; only summary statistics are available.  Therefore, in this project we create artificial synthetic data, based on those summary statistics.\n",
    "\n",
    "In order to test whether eating diet actually reduced serum cholesterol levels, we need to create a table with one row for each participant in the study, as well as how their serum cholesterol changed. There were 1179 subjects in the diet group and 1176 subjects in the control group who had their serum cholesterol changes measured. \n",
    "\n",
    "The study measured the serum cholesterol at the start and end of the study, then used this to compute the percentage change for each individual.  Then, they computed the average and standard deviation of these percentage changes for each study group. We have these summary statistics: for those who received the unsaturated fat diet, the serum cholestorol decreased by 13.8% on average, with a standard deviation of 13%.  For those in the control group, the percentage change decreased by 1% on average, with a standard deviation of 14.5%.  We used these statistics to generate random synthetic percentage change levels for each individual, making an assumption about the distribution fo these changes.  We have saved this data in `serum_cholesterol.csv`.  We read this table into `serum_cholesterol` below."
   ]
  },
  {
   "cell_type": "code",
   "execution_count": 47,
   "metadata": {},
   "outputs": [
    {
     "name": "stderr",
     "output_type": "stream",
     "text": [
      "/anaconda3/lib/python3.6/site-packages/datascience/tables.py:132: FutureWarning: read_table is deprecated, use read_csv instead.\n",
      "  df = pandas.read_table(filepath_or_buffer, *args, **vargs)\n"
     ]
    },
    {
     "data": {
      "text/html": [
       "<table border=\"1\" class=\"dataframe\">\n",
       "    <thead>\n",
       "        <tr>\n",
       "            <th>Condition</th> <th>Change in Serum Cholesterol</th>\n",
       "        </tr>\n",
       "    </thead>\n",
       "    <tbody>\n",
       "        <tr>\n",
       "            <td>Diet     </td> <td>-8.36662                   </td>\n",
       "        </tr>\n",
       "        <tr>\n",
       "            <td>Diet     </td> <td>-23.6885                   </td>\n",
       "        </tr>\n",
       "        <tr>\n",
       "            <td>Diet     </td> <td>-28.985                    </td>\n",
       "        </tr>\n",
       "        <tr>\n",
       "            <td>Diet     </td> <td>-10.9341                   </td>\n",
       "        </tr>\n",
       "        <tr>\n",
       "            <td>Diet     </td> <td>-17.9041                   </td>\n",
       "        </tr>\n",
       "        <tr>\n",
       "            <td>Diet     </td> <td>-11.7145                   </td>\n",
       "        </tr>\n",
       "        <tr>\n",
       "            <td>Diet     </td> <td>-13.6215                   </td>\n",
       "        </tr>\n",
       "        <tr>\n",
       "            <td>Diet     </td> <td>-2.2387                    </td>\n",
       "        </tr>\n",
       "        <tr>\n",
       "            <td>Diet     </td> <td>-2.03579                   </td>\n",
       "        </tr>\n",
       "        <tr>\n",
       "            <td>Diet     </td> <td>-13.5746                   </td>\n",
       "        </tr>\n",
       "    </tbody>\n",
       "</table>\n",
       "<p>... (2345 rows omitted)</p>"
      ],
      "text/plain": [
       "Condition | Change in Serum Cholesterol\n",
       "Diet      | -8.36662\n",
       "Diet      | -23.6885\n",
       "Diet      | -28.985\n",
       "Diet      | -10.9341\n",
       "Diet      | -17.9041\n",
       "Diet      | -11.7145\n",
       "Diet      | -13.6215\n",
       "Diet      | -2.2387\n",
       "Diet      | -2.03579\n",
       "Diet      | -13.5746\n",
       "... (2345 rows omitted)"
      ]
     },
     "execution_count": 47,
     "metadata": {},
     "output_type": "execute_result"
    }
   ],
   "source": [
    "serum_cholesterol = Table.read_table('serum_cholesterol.csv')\n",
    "serum_cholesterol"
   ]
  },
  {
   "cell_type": "markdown",
   "metadata": {},
   "source": [
    "After determining if serum cholesterol is actually lowered by this new diet, we will see whether or not death rates were reduced as well. The following table is a summarized version of the data collected in the experiment. "
   ]
  },
  {
   "cell_type": "code",
   "execution_count": 48,
   "metadata": {},
   "outputs": [
    {
     "name": "stderr",
     "output_type": "stream",
     "text": [
      "/anaconda3/lib/python3.6/site-packages/datascience/tables.py:132: FutureWarning: read_table is deprecated, use read_csv instead.\n",
      "  df = pandas.read_table(filepath_or_buffer, *args, **vargs)\n"
     ]
    },
    {
     "data": {
      "text/html": [
       "<table border=\"1\" class=\"dataframe\">\n",
       "    <thead>\n",
       "        <tr>\n",
       "            <th>Age</th> <th>Condition</th> <th>Total</th> <th>Deaths</th> <th>CHD Deaths</th>\n",
       "        </tr>\n",
       "    </thead>\n",
       "    <tbody>\n",
       "        <tr>\n",
       "            <td>0-34 </td> <td>Diet     </td> <td>1367 </td> <td>3     </td> <td>0         </td>\n",
       "        </tr>\n",
       "        <tr>\n",
       "            <td>35-44</td> <td>Diet     </td> <td>728  </td> <td>3     </td> <td>0         </td>\n",
       "        </tr>\n",
       "        <tr>\n",
       "            <td>45-54</td> <td>Diet     </td> <td>767  </td> <td>14    </td> <td>4         </td>\n",
       "        </tr>\n",
       "        <tr>\n",
       "            <td>55-64</td> <td>Diet     </td> <td>870  </td> <td>35    </td> <td>7         </td>\n",
       "        </tr>\n",
       "        <tr>\n",
       "            <td>65+  </td> <td>Diet     </td> <td>953  </td> <td>190   </td> <td>42        </td>\n",
       "        </tr>\n",
       "        <tr>\n",
       "            <td>0-34 </td> <td>Control  </td> <td>1337 </td> <td>7     </td> <td>1         </td>\n",
       "        </tr>\n",
       "        <tr>\n",
       "            <td>35-44</td> <td>Control  </td> <td>731  </td> <td>4     </td> <td>1         </td>\n",
       "        </tr>\n",
       "        <tr>\n",
       "            <td>45-54</td> <td>Control  </td> <td>816  </td> <td>16    </td> <td>4         </td>\n",
       "        </tr>\n",
       "        <tr>\n",
       "            <td>55-64</td> <td>Control  </td> <td>896  </td> <td>33    </td> <td>12        </td>\n",
       "        </tr>\n",
       "        <tr>\n",
       "            <td>65+  </td> <td>Control  </td> <td>958  </td> <td>162   </td> <td>34        </td>\n",
       "        </tr>\n",
       "    </tbody>\n",
       "</table>"
      ],
      "text/plain": [
       "Age   | Condition | Total | Deaths | CHD Deaths\n",
       "0-34  | Diet      | 1367  | 3      | 0\n",
       "35-44 | Diet      | 728   | 3      | 0\n",
       "45-54 | Diet      | 767   | 14     | 4\n",
       "55-64 | Diet      | 870   | 35     | 7\n",
       "65+   | Diet      | 953   | 190    | 42\n",
       "0-34  | Control   | 1337  | 7      | 1\n",
       "35-44 | Control   | 731   | 4      | 1\n",
       "45-54 | Control   | 816   | 16     | 4\n",
       "55-64 | Control   | 896   | 33     | 12\n",
       "65+   | Control   | 958   | 162    | 34"
      ]
     },
     "execution_count": 48,
     "metadata": {},
     "output_type": "execute_result"
    }
   ],
   "source": [
    "mortality_summary = Table.read_table('mortality_summary.csv')\n",
    "mortality_summary"
   ]
  },
  {
   "cell_type": "markdown",
   "metadata": {},
   "source": [
    "**Question 3:** The numbers of deaths in the Deaths column above are not specific to cardiovascular disease. For our tests, we are going to use the total number of deaths instead of the number of CHD deaths. If a hypothesis test shows that the rate of deaths in the diet group is different from the rate of deaths in the control group, which of the following are valid conclusions from the test? Assign the name `mortality_valid_conclusions` to a list of numbers."
   ]
  },
  {
   "cell_type": "markdown",
   "metadata": {},
   "source": [
    "1. Eating a diet rich in unsaturated fats causes an increased/decreased risk of death.\n",
    "2. Eating a diet rich in unsaturated fats causes/prevents cardiovascular disease.\n",
    "3. Lower cholesterol causes an increased/decreased risk of cardiovascular disease.\n",
    "4. It is impossible to determine any causal relationship between any of these factors, even if the test shows an association."
   ]
  },
  {
   "cell_type": "code",
   "execution_count": 54,
   "metadata": {
    "deletable": false,
    "manual_problem_id": "disease_3_1"
   },
   "outputs": [
    {
     "data": {
      "text/plain": [
       "[1]"
      ]
     },
     "execution_count": 54,
     "metadata": {},
     "output_type": "execute_result"
    }
   ],
   "source": [
    "mortality_valid_conclusions = [1] ### \n",
    "mortality_valid_conclusions"
   ]
  },
  {
   "cell_type": "markdown",
   "metadata": {},
   "source": [
    "To help with our simulations, we are going to expand the `mortality_summary` table so that we have one row for every subject in the experiment. Our goal is to put this into a table called `minnesota_data`."
   ]
  },
  {
   "cell_type": "markdown",
   "metadata": {},
   "source": [
    "**Question 4:** Using all of the notes below, complete the code below to create a table with four columns: \"Age\", \"Condition\", \"Participated\" and \"Died\". Each row should contain a specific patient and should have their age group and condition as specified in the `mortality_summary` table, a `True` in the \"Participated\" column since everyone participated in the experiment, and either a `True` or `False` in the \"Died\" column, depending on if they are alive or dead. \n",
    "\n",
    "The total number of rows of `minnesota_data` should be the same as the number of participants summarized in the mortality_summary table. \n",
    "\n",
    "*Hint*: The most useful notes from below will be the final three; how to get an item out of a row, passing in just one value into the second argument of `with_column`, and how to iterate over rows. Make sure you use the other two notes to understand what the rest of this code is doing.  "
   ]
  },
  {
   "cell_type": "markdown",
   "metadata": {},
   "source": [
    "The following few notes will all be helpful to finish and understand the code below: \n",
    "\n",
    "* `tbl1.append(tbl2)` adds all of the rows of `tbl2` into `tbl1`, assuming they have the same column names \n",
    "* `np.arange(5) < 3` returns the following array: `[True, True, True, False, False]`\n",
    "* `row.item(x)` returns the item in column `x` in a specific row of a table\n",
    "*  If `my_table` has 10 rows. Then, `my_table.with_column('Num', val)` adds an array of length 10, with each element being val, as a new column of the table. \n",
    "*  To iterate over all rows of a table, you can write `for row in tbl.rows:`"
   ]
  },
  {
   "cell_type": "code",
   "execution_count": 71,
   "metadata": {
    "deletable": false,
    "for_assignment_type": "student",
    "manual_problem_id": "part_3_minnesota_data"
   },
   "outputs": [
    {
     "data": {
      "text/html": [
       "<table border=\"1\" class=\"dataframe\">\n",
       "    <thead>\n",
       "        <tr>\n",
       "            <th>Age</th> <th>Condition</th> <th>Died</th> <th>Participated</th>\n",
       "        </tr>\n",
       "    </thead>\n",
       "    <tbody>\n",
       "        <tr>\n",
       "            <td>0-34</td> <td>Diet     </td> <td>True </td> <td>True        </td>\n",
       "        </tr>\n",
       "        <tr>\n",
       "            <td>0-34</td> <td>Diet     </td> <td>True </td> <td>True        </td>\n",
       "        </tr>\n",
       "        <tr>\n",
       "            <td>0-34</td> <td>Diet     </td> <td>True </td> <td>True        </td>\n",
       "        </tr>\n",
       "        <tr>\n",
       "            <td>0-34</td> <td>Diet     </td> <td>False</td> <td>True        </td>\n",
       "        </tr>\n",
       "        <tr>\n",
       "            <td>0-34</td> <td>Diet     </td> <td>False</td> <td>True        </td>\n",
       "        </tr>\n",
       "        <tr>\n",
       "            <td>0-34</td> <td>Diet     </td> <td>False</td> <td>True        </td>\n",
       "        </tr>\n",
       "        <tr>\n",
       "            <td>0-34</td> <td>Diet     </td> <td>False</td> <td>True        </td>\n",
       "        </tr>\n",
       "        <tr>\n",
       "            <td>0-34</td> <td>Diet     </td> <td>False</td> <td>True        </td>\n",
       "        </tr>\n",
       "        <tr>\n",
       "            <td>0-34</td> <td>Diet     </td> <td>False</td> <td>True        </td>\n",
       "        </tr>\n",
       "        <tr>\n",
       "            <td>0-34</td> <td>Diet     </td> <td>False</td> <td>True        </td>\n",
       "        </tr>\n",
       "    </tbody>\n",
       "</table>\n",
       "<p>... (9413 rows omitted)</p>"
      ],
      "text/plain": [
       "Age  | Condition | Died  | Participated\n",
       "0-34 | Diet      | True  | True\n",
       "0-34 | Diet      | True  | True\n",
       "0-34 | Diet      | True  | True\n",
       "0-34 | Diet      | False | True\n",
       "0-34 | Diet      | False | True\n",
       "0-34 | Diet      | False | True\n",
       "0-34 | Diet      | False | True\n",
       "0-34 | Diet      | False | True\n",
       "0-34 | Diet      | False | True\n",
       "0-34 | Diet      | False | True\n",
       "... (9413 rows omitted)"
      ]
     },
     "execution_count": 71,
     "metadata": {},
     "output_type": "execute_result"
    }
   ],
   "source": [
    "minnesota_data = Table(['Age', 'Condition', 'Died', 'Participated'])\n",
    "\n",
    "for row in mortality_summary.rows:\n",
    "    i = np.arange(0, row.item('Total'))\n",
    "    t = Table().with_column('Died', i < row.item('Deaths'))\n",
    "    t = t.with_column('Age', row.item('Age'))\n",
    "    t = t.with_column('Condition', row.item('Condition'))\n",
    "    t = t.with_column('Participated', True)\n",
    "    minnesota_data.append(t)\n",
    "\n",
    "minnesota_data"
   ]
  },
  {
   "cell_type": "markdown",
   "metadata": {},
   "source": [
    "## Part 4: Running a Hypothesis Test"
   ]
  },
  {
   "cell_type": "markdown",
   "metadata": {
    "collapsed": true
   },
   "source": [
    "Now that we have two clean datasets from the Minnesota Coronary Experiment to work with, we can focus on determining causal links. Assuming that these randomized controlled experiments are samples from the larger population, we can work on using the inference techniques discussed so far in the course to answer the following questions: \n",
    "\n",
    "* Does changing saturated fats to polyunsaturated fats in a person's diet **decrease their serum cholestrol levels**? \n",
    "\n",
    "\n",
    "* Does changing saturated fats to polyunsaturated fats in a person's diet **affect their risk of death**? "
   ]
  },
  {
   "cell_type": "markdown",
   "metadata": {},
   "source": [
    "### Section 1: Reducing Serum Cholesterol "
   ]
  },
  {
   "cell_type": "markdown",
   "metadata": {
    "collapsed": true
   },
   "source": [
    "First, we want to test whether the unsaturated fat diet changes serum cholesterol levels. To do so, we will need the `serum_cholesterol` table. Remember that there are two unique values in the 'Condition' column: 'Diet' and 'Control'."
   ]
  },
  {
   "cell_type": "code",
   "execution_count": 53,
   "metadata": {},
   "outputs": [
    {
     "data": {
      "text/html": [
       "<table border=\"1\" class=\"dataframe\">\n",
       "    <thead>\n",
       "        <tr>\n",
       "            <th>Condition</th> <th>Change in Serum Cholesterol</th>\n",
       "        </tr>\n",
       "    </thead>\n",
       "    <tbody>\n",
       "        <tr>\n",
       "            <td>Diet     </td> <td>-8.36662                   </td>\n",
       "        </tr>\n",
       "        <tr>\n",
       "            <td>Diet     </td> <td>-23.6885                   </td>\n",
       "        </tr>\n",
       "        <tr>\n",
       "            <td>Diet     </td> <td>-28.985                    </td>\n",
       "        </tr>\n",
       "        <tr>\n",
       "            <td>Diet     </td> <td>-10.9341                   </td>\n",
       "        </tr>\n",
       "        <tr>\n",
       "            <td>Diet     </td> <td>-17.9041                   </td>\n",
       "        </tr>\n",
       "        <tr>\n",
       "            <td>Diet     </td> <td>-11.7145                   </td>\n",
       "        </tr>\n",
       "        <tr>\n",
       "            <td>Diet     </td> <td>-13.6215                   </td>\n",
       "        </tr>\n",
       "        <tr>\n",
       "            <td>Diet     </td> <td>-2.2387                    </td>\n",
       "        </tr>\n",
       "        <tr>\n",
       "            <td>Diet     </td> <td>-2.03579                   </td>\n",
       "        </tr>\n",
       "        <tr>\n",
       "            <td>Diet     </td> <td>-13.5746                   </td>\n",
       "        </tr>\n",
       "    </tbody>\n",
       "</table>\n",
       "<p>... (2345 rows omitted)</p>"
      ],
      "text/plain": [
       "Condition | Change in Serum Cholesterol\n",
       "Diet      | -8.36662\n",
       "Diet      | -23.6885\n",
       "Diet      | -28.985\n",
       "Diet      | -10.9341\n",
       "Diet      | -17.9041\n",
       "Diet      | -11.7145\n",
       "Diet      | -13.6215\n",
       "Diet      | -2.2387\n",
       "Diet      | -2.03579\n",
       "Diet      | -13.5746\n",
       "... (2345 rows omitted)"
      ]
     },
     "execution_count": 53,
     "metadata": {},
     "output_type": "execute_result"
    }
   ],
   "source": [
    "serum_cholesterol"
   ]
  },
  {
   "cell_type": "markdown",
   "metadata": {},
   "source": [
    "**Question 1:** State precisely a null hypothesis and an alternative hypothesis which can help us determine if the unsaturated fat diet *decreases* serum cholesterol levels as compared to the control diet. "
   ]
  },
  {
   "cell_type": "markdown",
   "metadata": {
    "deletable": false,
    "manual_problem_id": "disease_4_1_1"
   },
   "source": [
    "**Null Hypothesis: Chenge saturated fats to polyunsaturated fats in a person's diet does not change their serum cholestrol levels. **\n",
    "\n",
    "**Alternative Hypothesis: Chenge saturated fats to polyunsaturated fats in a person's diet decreases their serum cholestrol levels. **"
   ]
  },
  {
   "cell_type": "markdown",
   "metadata": {},
   "source": [
    "In order to differentiate between our two hypotheses above, we consider the difference: average of the percentage increase in cholesterol level in the control group minus the average of the percentage increase in cholesterol level in the diet group."
   ]
  },
  {
   "cell_type": "markdown",
   "metadata": {},
   "source": [
    "**Question 2:** Do larger values of the test statistic point towards the  null hypothesis or the alternative hypothesis? Assign `larger_chol_stat` to either 1 if it's the null, or 2 if it's the alternative. "
   ]
  },
  {
   "cell_type": "code",
   "execution_count": 58,
   "metadata": {
    "deletable": false,
    "manual_problem_id": "part_4_chol_stat"
   },
   "outputs": [
    {
     "data": {
      "text/plain": [
       "-0.09541044594993467"
      ]
     },
     "execution_count": 58,
     "metadata": {},
     "output_type": "execute_result"
    }
   ],
   "source": [
    "larger_chol_stat = 2"
   ]
  },
  {
   "cell_type": "markdown",
   "metadata": {},
   "source": [
    "**Question 3:** Define a function `compute_chol_test_statistic` which takes in a table just like `serum_cholesterol` and returns the test statistic of the given data. Remember that the \"Change in Serum Cholesterol\" column in the provided `tbl` for `compute_chol_test_statistic` will already have % changes."
   ]
  },
  {
   "cell_type": "code",
   "execution_count": 60,
   "metadata": {
    "deletable": false,
    "for_assignment_type": "student",
    "manual_problem_id": "part_4_compute_chol_ts"
   },
   "outputs": [],
   "source": [
    "def compute_chol_test_statistic(tbl):\n",
    "    grouped_chol = tbl.group('Condition', np.mean)\n",
    "    percent_change_diet_chol = grouped_chol.column(1).item(1)\n",
    "    percent_change_control_chol = grouped_chol.column(1).item(0)\n",
    "    return percent_change_control_chol - percent_change_diet_chol"
   ]
  },
  {
   "cell_type": "markdown",
   "metadata": {},
   "source": [
    "**Question 4:** Assign `chol_observed_statistic` to the value of the test statistic on the observed data. "
   ]
  },
  {
   "cell_type": "code",
   "execution_count": 61,
   "metadata": {
    "deletable": false,
    "for_assignment_type": "student",
    "manual_problem_id": "part_4_chol_observed_ts"
   },
   "outputs": [
    {
     "data": {
      "text/plain": [
       "12.829344627886611"
      ]
     },
     "execution_count": 61,
     "metadata": {},
     "output_type": "execute_result"
    }
   ],
   "source": [
    "chol_observed_statistic = compute_chol_test_statistic(serum_cholesterol)\n",
    "chol_observed_statistic"
   ]
  },
  {
   "cell_type": "markdown",
   "metadata": {},
   "source": [
    "**Question 5:** The next step in our hypothesis test is to simulate what we might observe if the null hypothesis were true. Describe the steps needed to simulate the test statistic under the null hypothesis. Then, write a function to simulate one value of the statistic under the null hypothesis."
   ]
  },
  {
   "cell_type": "markdown",
   "metadata": {
    "deletable": false,
    "manual_problem_id": "disease_4_1_5"
   },
   "source": [
    "*Write your answer here, replacing this text.*"
   ]
  },
  {
   "cell_type": "code",
   "execution_count": 62,
   "metadata": {
    "deletable": false,
    "for_assignment_type": "student",
    "manual_problem_id": "part_4_simulate_chol_null"
   },
   "outputs": [],
   "source": [
    "def simulate_chol_change_null():\n",
    "    shuffled_chol = serum_cholesterol.sample(with_replacement = False).column('Condition')\n",
    "    sim_table_chol = serum_cholesterol.select(1).with_column('Condition', shuffled_chol)\n",
    "    return compute_chol_test_statistic(sim_table_chol)"
   ]
  },
  {
   "cell_type": "code",
   "execution_count": 63,
   "metadata": {},
   "outputs": [
    {
     "data": {
      "text/plain": [
       "0.940675789452488"
      ]
     },
     "execution_count": 63,
     "metadata": {},
     "output_type": "execute_result"
    }
   ],
   "source": [
    "# Run this cell to check that your function works.\n",
    "simulate_chol_change_null()"
   ]
  },
  {
   "cell_type": "markdown",
   "metadata": {},
   "source": [
    "**Question 6:** Simulate 1000 values of the test statistic by simulating taking a sample under the null hypothesis multiple times and assign this collection of test statistics to `chol_simulated_stats`. Put the test statistics into a one column table with 1000 rows called `chol_simulated_table`. \n",
    "\n",
    "*Note*: Your code might take a couple of minutes to run."
   ]
  },
  {
   "cell_type": "code",
   "execution_count": 66,
   "metadata": {
    "deletable": false,
    "for_assignment_type": "student",
    "manual_problem_id": "part_4_simulate_null_chol"
   },
   "outputs": [],
   "source": [
    "chol_simulated_stats = make_array()\n",
    "\n",
    "for i in np.arange(1000):\n",
    "    sim_stat = simulate_chol_change_null()\n",
    "    chol_simulated_stats = np.append(chol_simulated_stats, sim_stat)\n",
    "\n",
    "\n",
    "chol_simulated_table = Table().with_column('Simulated Test Statistics', chol_simulated_stats)"
   ]
  },
  {
   "cell_type": "markdown",
   "metadata": {},
   "source": [
    "The following line plots the histogram of the simulated test statistics, as well as a point for the observed test statistic. Make sure to run it, as it will be graded. "
   ]
  },
  {
   "cell_type": "code",
   "execution_count": 67,
   "metadata": {
    "deletable": false,
    "manual_problem_id": "disease_q_4_1_6"
   },
   "outputs": [
    {
     "data": {
      "text/plain": [
       "<matplotlib.collections.PathCollection at 0x1a16972630>"
      ]
     },
     "execution_count": 67,
     "metadata": {},
     "output_type": "execute_result"
    },
    {
     "data": {
      "image/png": "[encoded data removed]",
      "text/plain": [
       "<Figure size 432x288 with 1 Axes>"
      ]
     },
     "metadata": {},
     "output_type": "display_data"
    }
   ],
   "source": [
    "chol_simulated_table.hist()\n",
    "plots.scatter(chol_observed_statistic, 0, color='red', s=30)"
   ]
  },
  {
   "cell_type": "markdown",
   "metadata": {},
   "source": [
    "**Question 7:** Without calculating any p-values, can we conclude from the test that the change in diet **causes** a larger percentage difference in serum cholesterol levels over time? Explain your answer. "
   ]
  },
  {
   "cell_type": "markdown",
   "metadata": {
    "deletable": false,
    "manual_problem_id": "disease_4_1_7"
   },
   "source": [
    "**Yes, we can conlude so because the observed statistic is way out in the tail distribution of the histogram.**"
   ]
  },
  {
   "cell_type": "markdown",
   "metadata": {},
   "source": [
    "**Question 8:** Assign `cholesterol_conclusion` to 1, 2, or 3, where the number chosen corresponds to the conclusion that we can make from this study.\n",
    "\n",
    "1. The results of this analysis indicate that changing saturated fats to polyunsaturated fats in a person's diet decreases their serum cholesterol levels.  \n",
    "2. The results of this analysis indicate that changing saturated fats to polyunsaturated fats in a person's diet does not decrease their serum cholesterol levels.  \n",
    "3. The results of this analysis do not allow us to draw any conclusions about the effect of changing saturated fats to polyunsaturated fats in a person's diet on their serum cholesterol levels."
   ]
  },
  {
   "cell_type": "code",
   "execution_count": 68,
   "metadata": {
    "deletable": false,
    "manual_problem_id": "part_4_chol_conclusion"
   },
   "outputs": [
    {
     "data": {
      "text/plain": [
       "1"
      ]
     },
     "execution_count": 68,
     "metadata": {},
     "output_type": "execute_result"
    }
   ],
   "source": [
    "cholesterol_conclusion = 1\n",
    "cholesterol_conclusion"
   ]
  },
  {
   "cell_type": "markdown",
   "metadata": {},
   "source": [
    "### Section 2: Reducing Death Rates"
   ]
  },
  {
   "cell_type": "markdown",
   "metadata": {},
   "source": [
    "In the previous section, we made a decision on whether dietary change affects the change in serum cholesterol levels. We have not yet, however, explored how the change in diet affects death rates among the subjects. To explore this, we move our attention to the `minnesota_data` table. "
   ]
  },
  {
   "cell_type": "code",
   "execution_count": 69,
   "metadata": {},
   "outputs": [
    {
     "data": {
      "text/html": [
       "<table border=\"1\" class=\"dataframe\">\n",
       "    <thead>\n",
       "        <tr>\n",
       "            <th>Age</th> <th>Condition</th> <th>Died</th> <th>Participated</th>\n",
       "        </tr>\n",
       "    </thead>\n",
       "    <tbody>\n",
       "        <tr>\n",
       "            <td>0-34</td> <td>Diet     </td> <td>True </td> <td>True        </td>\n",
       "        </tr>\n",
       "        <tr>\n",
       "            <td>0-34</td> <td>Diet     </td> <td>True </td> <td>True        </td>\n",
       "        </tr>\n",
       "        <tr>\n",
       "            <td>0-34</td> <td>Diet     </td> <td>True </td> <td>True        </td>\n",
       "        </tr>\n",
       "        <tr>\n",
       "            <td>0-34</td> <td>Diet     </td> <td>False</td> <td>True        </td>\n",
       "        </tr>\n",
       "        <tr>\n",
       "            <td>0-34</td> <td>Diet     </td> <td>False</td> <td>True        </td>\n",
       "        </tr>\n",
       "        <tr>\n",
       "            <td>0-34</td> <td>Diet     </td> <td>False</td> <td>True        </td>\n",
       "        </tr>\n",
       "        <tr>\n",
       "            <td>0-34</td> <td>Diet     </td> <td>False</td> <td>True        </td>\n",
       "        </tr>\n",
       "        <tr>\n",
       "            <td>0-34</td> <td>Diet     </td> <td>False</td> <td>True        </td>\n",
       "        </tr>\n",
       "        <tr>\n",
       "            <td>0-34</td> <td>Diet     </td> <td>False</td> <td>True        </td>\n",
       "        </tr>\n",
       "        <tr>\n",
       "            <td>0-34</td> <td>Diet     </td> <td>False</td> <td>True        </td>\n",
       "        </tr>\n",
       "    </tbody>\n",
       "</table>\n",
       "<p>... (9413 rows omitted)</p>"
      ],
      "text/plain": [
       "Age  | Condition | Died  | Participated\n",
       "0-34 | Diet      | True  | True\n",
       "0-34 | Diet      | True  | True\n",
       "0-34 | Diet      | True  | True\n",
       "0-34 | Diet      | False | True\n",
       "0-34 | Diet      | False | True\n",
       "0-34 | Diet      | False | True\n",
       "0-34 | Diet      | False | True\n",
       "0-34 | Diet      | False | True\n",
       "0-34 | Diet      | False | True\n",
       "0-34 | Diet      | False | True\n",
       "... (9413 rows omitted)"
      ]
     },
     "execution_count": 69,
     "metadata": {},
     "output_type": "execute_result"
    }
   ],
   "source": [
    "minnesota_data"
   ]
  },
  {
   "cell_type": "markdown",
   "metadata": {},
   "source": [
    "**Question 1:** Set up a null hypothesis and an alternative hypothesis that we can use to answer whether or not the unsaturated fat diet causes different rates of death in the two groups."
   ]
  },
  {
   "cell_type": "markdown",
   "metadata": {
    "deletable": false,
    "manual_problem_id": "diesease_4_2_1"
   },
   "source": [
    "**Null Hypothesis: unsaturated fat diet does NOT cause different rates of death in the two groups.**\n",
    "\n",
    "**Alternative Hypothesis: unsaturated fat diet causes different rates of death in the two groups.** "
   ]
  },
  {
   "cell_type": "markdown",
   "metadata": {},
   "source": [
    "**Question 2:** Create a table named `summed_mn_data`, with three columns and two rows. The three columns should be \"Condition\", \"Died sum\", and \"Participated sum\". There should be one row for the diet group and one row for the control group, and each row should encode the total number of people who participated in that group and the total number of people who died in that group. "
   ]
  },
  {
   "cell_type": "code",
   "execution_count": 73,
   "metadata": {
    "deletable": false,
    "for_assignment_type": "student",
    "manual_problem_id": "part_4_summed_mn_data"
   },
   "outputs": [
    {
     "data": {
      "text/html": [
       "<table border=\"1\" class=\"dataframe\">\n",
       "    <thead>\n",
       "        <tr>\n",
       "            <th>Condition</th> <th>Died sum</th> <th>Participated sum</th>\n",
       "        </tr>\n",
       "    </thead>\n",
       "    <tbody>\n",
       "        <tr>\n",
       "            <td>Control  </td> <td>222     </td> <td>4738            </td>\n",
       "        </tr>\n",
       "        <tr>\n",
       "            <td>Diet     </td> <td>245     </td> <td>4685            </td>\n",
       "        </tr>\n",
       "    </tbody>\n",
       "</table>"
      ],
      "text/plain": [
       "Condition | Died sum | Participated sum\n",
       "Control   | 222      | 4738\n",
       "Diet      | 245      | 4685"
      ]
     },
     "execution_count": 73,
     "metadata": {},
     "output_type": "execute_result"
    }
   ],
   "source": [
    "summed_mn_data = minnesota_data.drop('Age').group('Condition', sum)\n",
    "summed_mn_data"
   ]
  },
  {
   "cell_type": "markdown",
   "metadata": {},
   "source": [
    "**Question 3:** In thinking of a test statistic, one researcher decides that the absolute difference in the number of people who died in the control group and the number of people who died in the diet group is a sufficient test statistic. Give one **specific** reason why this test statistic will not work. "
   ]
  },
  {
   "cell_type": "markdown",
   "metadata": {
    "deletable": false,
    "manual_problem_id": "disease_4_2_3"
   },
   "source": [
    "**Because the number of participants in two groups are not the same. **"
   ]
  },
  {
   "cell_type": "markdown",
   "metadata": {},
   "source": [
    "To combat the problem above, we instead decide to use the the absolute difference in hazard rates between the two groups as our test statistic. The *hazard rate* is defined as the proportion of people who died in a specific group out of the total number who participated in the study from that group. "
   ]
  },
  {
   "cell_type": "markdown",
   "metadata": {},
   "source": [
    "**Question 4:** Define a new table `summed_mn_hazard_data` that contains the columns of `summed_mn_data` along with an additional column, `Hazard Rate`, that contains the hazard rates for each condition."
   ]
  },
  {
   "cell_type": "code",
   "execution_count": 74,
   "metadata": {
    "deletable": false,
    "for_assignment_type": "student",
    "manual_problem_id": "part_4_summed_hazard_data"
   },
   "outputs": [
    {
     "data": {
      "text/html": [
       "<table border=\"1\" class=\"dataframe\">\n",
       "    <thead>\n",
       "        <tr>\n",
       "            <th>Condition</th> <th>Died sum</th> <th>Participated sum</th> <th>Hazard Rate</th>\n",
       "        </tr>\n",
       "    </thead>\n",
       "    <tbody>\n",
       "        <tr>\n",
       "            <td>Control  </td> <td>222     </td> <td>4738            </td> <td>0.0468552  </td>\n",
       "        </tr>\n",
       "        <tr>\n",
       "            <td>Diet     </td> <td>245     </td> <td>4685            </td> <td>0.0522946  </td>\n",
       "        </tr>\n",
       "    </tbody>\n",
       "</table>"
      ],
      "text/plain": [
       "Condition | Died sum | Participated sum | Hazard Rate\n",
       "Control   | 222      | 4738             | 0.0468552\n",
       "Diet      | 245      | 4685             | 0.0522946"
      ]
     },
     "execution_count": 74,
     "metadata": {},
     "output_type": "execute_result"
    }
   ],
   "source": [
    "summed_mn_hazard_data = summed_mn_data.with_column('Hazard Rate', summed_mn_data.column(1) / summed_mn_data.column(2))\n",
    "summed_mn_hazard_data"
   ]
  },
  {
   "cell_type": "markdown",
   "metadata": {},
   "source": [
    "**Question 5:** Define a function `compute_hazard_difference` which takes in a table like `summed_mn_hazard_data` and returns the absolute difference between the hazard rates of the control group and the diet group. Use it to get the observed test statistic and assign it to `death_rate_observed_statistic`."
   ]
  },
  {
   "cell_type": "code",
   "execution_count": 75,
   "metadata": {
    "deletable": false,
    "for_assignment_type": "student",
    "manual_problem_id": "part_4_hazard_function"
   },
   "outputs": [
    {
     "data": {
      "text/plain": [
       "0.005439343927004493"
      ]
     },
     "execution_count": 75,
     "metadata": {},
     "output_type": "execute_result"
    }
   ],
   "source": [
    "def compute_hazard_difference(tbl):\n",
    "    return abs(tbl.column('Hazard Rate').item(0) - tbl.column('Hazard Rate').item(1))\n",
    "\n",
    "death_rate_observed_statistic = compute_hazard_difference(summed_mn_hazard_data)\n",
    "death_rate_observed_statistic"
   ]
  },
  {
   "cell_type": "markdown",
   "metadata": {},
   "source": [
    "**Question 6:** We are now in a position to run a hypothesis test to help differentiate between our two hypothesis using our data. Define a function `test` which takes in a table like `minnesota_data`. It simulates samples and calculates the rate differences for these samples under the null hypothesis 500 times, and uses them to return a P-Value with respect to our observed data. Note that your function should use the values in `t`, and should not refer to `minnesota_table`!\n",
    "\n",
    "*Hint:* This is a very long, involved problem. Start by outlining the steps you'll need to execute in this function and address each separately. Small steps and comments will be very helpful. You've already written a lot of key steps!\n",
    "\n",
    "Note: Your code might take a long time to run."
   ]
  },
  {
   "cell_type": "code",
   "execution_count": 77,
   "metadata": {
    "deletable": false,
    "for_assignment_type": "student",
    "manual_problem_id": "part_4_ht_minnesota_data"
   },
   "outputs": [
    {
     "data": {
      "text/plain": [
       "0.20599999999999999"
      ]
     },
     "execution_count": 77,
     "metadata": {},
     "output_type": "execute_result"
    }
   ],
   "source": [
    "def test(t):\n",
    "    ### function to calculate the statistic\n",
    "    def stat(t):\n",
    "        t1 = t.drop('Age').group('Condition', sum)\n",
    "        t2 = t1.with_column('Hazard Rate', t1.column('Died sum') / t1.column('Participated sum'))\n",
    "        return compute_hazard_difference(t2)\n",
    "    \n",
    "    ### function to simulate data table with shuffled condition\n",
    "    def simu_null(t):\n",
    "        shuffled = t.sample(with_replacement = False).column('Condition')\n",
    "        simu_t = t.drop('Condition').with_column('Condition', shuffled)\n",
    "        return simu_t\n",
    "    \n",
    "    ### simulate 1000 data table and calculate test stat for each\n",
    "    simu_stats = make_array()\n",
    "    for i in np.arange(1000):\n",
    "        sim_stat = stat(simu_null(t))\n",
    "        simu_stats = np.append(simu_stats, sim_stat)\n",
    "    \n",
    "    ### calculate p-value \n",
    "    return np.average(simu_stats > stat(t))\n",
    "\n",
    "our_p_value = test(minnesota_data)\n",
    "our_p_value"
   ]
  },
  {
   "cell_type": "markdown",
   "metadata": {},
   "source": [
    "**Question 7:** Using the P-Value above, what can we conclude about whether the change in diet causes a difference in death rate? Assume a normal p-value cutoff of .05. "
   ]
  },
  {
   "cell_type": "markdown",
   "metadata": {
    "deletable": false,
    "manual_problem_id": "disease_4_2_7"
   },
   "source": [
    "**Fail to reject the null as our p-value is greater than cutoff.**"
   ]
  },
  {
   "cell_type": "markdown",
   "metadata": {},
   "source": [
    "## Part 5: Conclusion"
   ]
  },
  {
   "cell_type": "markdown",
   "metadata": {},
   "source": [
    "We've almost made it to the end of this analysis. You, as an investigative data scientist, have explored the world's leading causes of death, identified the largest cause of death known to us in the last century, and looked at one of the most important data sets that explains what leads to that cause of death. We've recreated Dr. Frantz's data, run our own experiments, and examined important external factors. It's now time to reflect on what we've discovered."
   ]
  },
  {
   "cell_type": "markdown",
   "metadata": {
    "collapsed": true
   },
   "source": [
    "**Question 1:** In about 3-5 sentences, explain what you have learned throughout this project. Does replacing saturated fats with unsaturated fats cause a change in serum cholesterol? Does it cause a different death rate? What other factors are important to consider? "
   ]
  },
  {
   "cell_type": "markdown",
   "metadata": {
    "deletable": false,
    "manual_problem_id": "disease_6_1"
   },
   "source": [
    "**Any reasonable anwser.**"
   ]
  },
  {
   "cell_type": "markdown",
   "metadata": {
    "collapsed": true
   },
   "source": [
    "Congratulations! You have completed your own large scale case study into cause and effect surrounding one of the world's deadliest killers: cardiovascular disease. Your investigation you has taken you through two important data sets and across decades of medical research. Now it's time to submit.\n",
    "\n",
    "* **Save and Checkpoint** from the File menu,\n",
    "* **Close and Halt** from the File menu,\n",
    "* **Rename your ipynb file**, replacing LASTNAMES with your last names, or the last names of your group, separated by a hyphen,\n",
    "* **Upload** your file to the course website."
   ]
  },
  {
   "cell_type": "markdown",
   "metadata": {},
   "source": [
    "### Further reading\n",
    "\n",
    "If you're interested in learning more, you can check out these articles:\n",
    "\n",
    "* [Origin story of the Framingham Heart Study](https://www.ncbi.nlm.nih.gov/pmc/articles/PMC1449227/)\n",
    "* [Recent paper about Minnesota findings](https://www.bmj.com/content/353/bmj.i1246)\n",
    "* [National Diet-Heart Study initial report](https://jamanetwork.com/journals/jama/article-abstract/666261)\n",
    "* [National Diet-Heart Study final report](http://www.epi.umn.edu/cvdepi/study-synopsis/national-diet-heart-study/)"
   ]
  }
 ],
 "metadata": {
  "kernelspec": {
   "display_name": "Python 3",
   "language": "python",
   "name": "python3"
  },
  "language_info": {
   "codemirror_mode": {
    "name": "ipython",
    "version": 3
   },
   "file_extension": ".py",
   "mimetype": "text/x-python",
   "name": "python",
   "nbconvert_exporter": "python",
   "pygments_lexer": "ipython3",
   "version": "3.6.4"
  }
 },
 "nbformat": 4,
 "nbformat_minor": 1
}
